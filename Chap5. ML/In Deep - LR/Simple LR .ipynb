{
 "cells": [
  {
   "cell_type": "code",
   "execution_count": 1,
   "id": "intense-router",
   "metadata": {},
   "outputs": [],
   "source": [
    "import numpy as np \n",
    "import matplotlib.pyplot as plt \n",
    "import seaborn as sns; sns.set()\n",
    "%matplotlib inline"
   ]
  },
  {
   "cell_type": "markdown",
   "id": "subtle-stage",
   "metadata": {},
   "source": [
    "## Simple LR"
   ]
  },
  {
   "cell_type": "code",
   "execution_count": 2,
   "id": "radio-leeds",
   "metadata": {},
   "outputs": [
    {
     "data": {
      "text/plain": [
       "<matplotlib.collections.PathCollection at 0x19aaf4eb910>"
      ]
     },
     "execution_count": 2,
     "metadata": {},
     "output_type": "execute_result"
    },
    {
     "data": {
      "image/png": "[encoded data removed]",
      "text/plain": [
       "<Figure size 432x288 with 1 Axes>"
      ]
     },
     "metadata": {
      "needs_background": "light"
     },
     "output_type": "display_data"
    }
   ],
   "source": [
    "# simulate data scattered about a line with a slope of 2 and intercept of 5\n",
    "rng = np.random.RandomState(1)\n",
    "x = 10 * rng.rand(50)\n",
    "y = 2 * x - 5 + rng.randn(50)\n",
    "plt.scatter(x, y)"
   ]
  },
  {
   "cell_type": "code",
   "execution_count": 3,
   "id": "stopped-equity",
   "metadata": {},
   "outputs": [
    {
     "data": {
      "text/plain": [
       "[<matplotlib.lines.Line2D at 0x19aafd67580>]"
      ]
     },
     "execution_count": 3,
     "metadata": {},
     "output_type": "execute_result"
    },
    {
     "data": {
      "image/png": "[encoded data removed]",
      "text/plain": [
       "<Figure size 432x288 with 1 Axes>"
      ]
     },
     "metadata": {
      "needs_background": "light"
     },
     "output_type": "display_data"
    }
   ],
   "source": [
    "# fit the data and construct the best-fit line, using LinearRegression of Scikit-Learn\n",
    "from sklearn.linear_model import LinearRegression \n",
    "\n",
    "model = LinearRegression(fit_intercept = True)\n",
    "\n",
    "model.fit(x[:, np.newaxis], y)\n",
    "\n",
    "xfit = np.linspace(0, 10, 1000)\n",
    "yfit = model.predict(xfit[:, np.newaxis])\n",
    "\n",
    "plt.scatter(x, y)\n",
    "plt.plot(xfit, yfit)"
   ]
  },
  {
   "cell_type": "code",
   "execution_count": 4,
   "id": "general-hardware",
   "metadata": {},
   "outputs": [
    {
     "name": "stdout",
     "output_type": "stream",
     "text": [
      "Model slope:  2.027208810360695\n",
      "Model intercept:  -4.998577085553202\n"
     ]
    }
   ],
   "source": [
    "# slope and intercept of the data\n",
    "print('Model slope: ', model.coef_[0])\n",
    "print('Model intercept: ', model.intercept_)"
   ]
  },
  {
   "cell_type": "code",
   "execution_count": 5,
   "id": "honey-allah",
   "metadata": {},
   "outputs": [
    {
     "name": "stdout",
     "output_type": "stream",
     "text": [
      "0.5000000000000144\n",
      "[ 1.5 -2.   1. ]\n"
     ]
    }
   ],
   "source": [
    "# construct multidimensional linear regression \n",
    "rng = np.random.RandomState(1)\n",
    "X = 10 * rng.rand(100, 3)              # véc tơ X gồm 3 chiều\n",
    "y = 0.5 + np.dot(X, [1.5, -2, 1.])\n",
    "\n",
    "# predict the coefficients above \n",
    "model.fit(X, y)\n",
    "print(model.intercept_)\n",
    "print(model.coef_)"
   ]
  },
  {
   "cell_type": "markdown",
   "id": "included-insured",
   "metadata": {},
   "source": [
    "Ta có thể sd **LinearRegression** estimator để fit đường thẳng, mp, siêu phẳng vào bộ dữ liễu.\n",
    "\n",
    "Ta có thể nới lỏng gói này để áp dụng vào cả bộ dữ liệu có quan hệ phi tuyến tính giữa các biến."
   ]
  },
  {
   "cell_type": "code",
   "execution_count": null,
   "id": "turned-digest",
   "metadata": {},
   "outputs": [],
   "source": []
  }
 ],
 "metadata": {
  "kernelspec": {
   "display_name": "Python 3",
   "language": "python",
   "name": "python3"
  },
  "language_info": {
   "codemirror_mode": {
    "name": "ipython",
    "version": 3
   },
   "file_extension": ".py",
   "mimetype": "text/x-python",
   "name": "python",
   "nbconvert_exporter": "python",
   "pygments_lexer": "ipython3",
   "version": "3.8.3"
  }
 },
 "nbformat": 4,
 "nbformat_minor": 5
}
