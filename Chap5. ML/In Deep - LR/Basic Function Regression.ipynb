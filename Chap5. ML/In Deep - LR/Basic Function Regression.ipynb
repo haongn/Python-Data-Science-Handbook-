{
 "cells": [
  {
   "cell_type": "markdown",
   "id": "billion-scottish",
   "metadata": {},
   "source": [
    "Ta cần làm rõ khái niệm linear model: tuyến tính ở đây không chỉ thể hiện mối quan hệ tuyến tính, mà còn là các hệ số \n",
    "    cần tìm của mô hình không bao giờ được nhân hay chia với nhau, tức với mỗi chiều thì chỉ có một hệ số duy nhất của chiều đó."
   ]
  },
  {
   "cell_type": "markdown",
   "id": "standard-tournament",
   "metadata": {},
   "source": [
    "### Polynomial basis functions"
   ]
  },
  {
   "cell_type": "markdown",
   "id": "steady-converter",
   "metadata": {},
   "source": [
    "Trick để áp dụng LR vào bộ dl có mqh phi tuyến giữa các biến: biến đổi DL dựa vào *basis functions*."
   ]
  },
  {
   "cell_type": "markdown",
   "id": "completed-disposal",
   "metadata": {},
   "source": [
    "Ý tưởng là từ dl input x (một chiều), ta xd các biến x1, x2, x3,... cho mô hình tuyến tính đa chiều. Tức, ta xd $x_n = f_n(x)$ với $f_n()$ là một hàm nào đó biến đổi dl một chiều x ban đầu."
   ]
  },
  {
   "cell_type": "markdown",
   "id": "enabling-communications",
   "metadata": {},
   "source": [
    "VD: Nếu lấy $f_n(x) = x^n$ => mô hình trở thành hồi quy đa thức."
   ]
  },
  {
   "cell_type": "code",
   "execution_count": null,
   "id": "hawaiian-child",
   "metadata": {},
   "outputs": [],
   "source": [
    "# polynomial projection, "
   ]
  },
  {
   "cell_type": "code",
   "execution_count": 6,
   "id": "entire-regular",
   "metadata": {},
   "outputs": [],
   "source": [
    "import numpy as np \n",
    "import matplotlib.pyplot as plt \n",
    "import seaborn as sns; sns.set()\n",
    "%matplotlib inline\n",
    "from sklearn.linear_model import LinearRegression"
   ]
  },
  {
   "cell_type": "code",
   "execution_count": 4,
   "id": "confused-bench",
   "metadata": {},
   "outputs": [
    {
     "data": {
      "text/plain": [
       "array([[ 2.,  4.,  8.],\n",
       "       [ 3.,  9., 27.],\n",
       "       [ 4., 16., 64.]])"
      ]
     },
     "execution_count": 4,
     "metadata": {},
     "output_type": "execute_result"
    }
   ],
   "source": [
    "from sklearn.preprocessing import PolynomialFeatures\n",
    "\n",
    "x = np.array([2, 3, 4])\n",
    "poly = PolynomialFeatures(3, include_bias = False)\n",
    "poly.fit_transform(x[:, None])"
   ]
  },
  {
   "cell_type": "code",
   "execution_count": null,
   "id": "accessible-frontier",
   "metadata": {},
   "outputs": [],
   "source": [
    "# the transformer has converted our one-dimensional array into a\n",
    "# three-dimensional array by taking the exponent of each value. This new, higher-\n",
    "# dimensional data representation can then be plugged into a linear regression."
   ]
  },
  {
   "cell_type": "code",
   "execution_count": 7,
   "id": "heavy-rainbow",
   "metadata": {},
   "outputs": [],
   "source": [
    "from sklearn.pipeline import make_pipeline \n",
    "poly_model = make_pipeline(PolynomialFeatures(7), # linear model using 7th-order polynomial basis functions\n",
    "                           LinearRegression())"
   ]
  },
  {
   "cell_type": "code",
   "execution_count": 9,
   "id": "endless-actress",
   "metadata": {},
   "outputs": [
    {
     "data": {
      "text/plain": [
       "[<matplotlib.lines.Line2D at 0x27256d71250>]"
      ]
     },
     "execution_count": 9,
     "metadata": {},
     "output_type": "execute_result"
    },
    {
     "data": {
      "image/png": "[encoded data removed]",
      "text/plain": [
       "<Figure size 432x288 with 1 Axes>"
      ]
     },
     "metadata": {
      "needs_background": "light"
     },
     "output_type": "display_data"
    }
   ],
   "source": [
    "# create a sine wave noise \n",
    "rng = np.random.RandomState(1)\n",
    "x = 10 * rng.rand(50)\n",
    "y = np.sin(x) + 0.1 * rng.rand(50)\n",
    "\n",
    "poly_model.fit(x[:, np.newaxis], y)\n",
    "\n",
    "xfit = np.linspace(0, 10, 1000)\n",
    "yfit = poly_model.predict(xfit[:, np.newaxis])\n",
    "\n",
    "plt.scatter(x, y)\n",
    "plt.plot(xfit, yfit)"
   ]
  },
  {
   "cell_type": "markdown",
   "id": "prepared-solution",
   "metadata": {},
   "source": [
    "### Gaussian basis functions"
   ]
  },
  {
   "cell_type": "code",
   "execution_count": 10,
   "id": "sharing-appreciation",
   "metadata": {},
   "outputs": [],
   "source": [
    "from sklearn.base import BaseEstimator, TransformerMixin "
   ]
  },
  {
   "cell_type": "code",
   "execution_count": null,
   "id": "buried-protection",
   "metadata": {},
   "outputs": [],
   "source": [
    "class GaussianFeatures(BaseEstimator, TransformerMixin): \n",
    "    \"\"\"Uniformly spaced Gaussian features for one-dimensional input.\"\"\"\n",
    "    "
   ]
  },
  {
   "cell_type": "code",
   "execution_count": null,
   "id": "transsexual-collapse",
   "metadata": {},
   "outputs": [],
   "source": []
  },
  {
   "cell_type": "code",
   "execution_count": null,
   "id": "systematic-matrix",
   "metadata": {},
   "outputs": [],
   "source": []
  },
  {
   "cell_type": "code",
   "execution_count": null,
   "id": "collective-perfume",
   "metadata": {},
   "outputs": [],
   "source": []
  },
  {
   "cell_type": "code",
   "execution_count": null,
   "id": "impaired-october",
   "metadata": {},
   "outputs": [],
   "source": []
  }
 ],
 "metadata": {
  "kernelspec": {
   "display_name": "Python 3",
   "language": "python",
   "name": "python3"
  },
  "language_info": {
   "codemirror_mode": {
    "name": "ipython",
    "version": 3
   },
   "file_extension": ".py",
   "mimetype": "text/x-python",
   "name": "python",
   "nbconvert_exporter": "python",
   "pygments_lexer": "ipython3",
   "version": "3.8.3"
  }
 },
 "nbformat": 4,
 "nbformat_minor": 5
}
