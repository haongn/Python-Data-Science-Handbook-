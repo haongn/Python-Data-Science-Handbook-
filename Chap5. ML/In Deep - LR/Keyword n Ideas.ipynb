{
 "cells": [
  {
   "cell_type": "code",
   "execution_count": null,
   "id": "fiscal-province",
   "metadata": {},
   "outputs": [],
   "source": [
    "Feature Engineering - p359\n",
    "Hyperparameters and Model Validation - p375"
   ]
  }
 ],
 "metadata": {
  "kernelspec": {
   "display_name": "Python 3",
   "language": "python",
   "name": "python3"
  },
  "language_info": {
   "codemirror_mode": {
    "name": "ipython",
    "version": 3
   },
   "file_extension": ".py",
   "mimetype": "text/x-python",
   "name": "python",
   "nbconvert_exporter": "python",
   "pygments_lexer": "ipython3",
   "version": "3.8.3"
  }
 },
 "nbformat": 4,
 "nbformat_minor": 5
}
