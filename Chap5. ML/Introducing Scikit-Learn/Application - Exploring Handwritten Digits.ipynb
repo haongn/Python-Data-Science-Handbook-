{
 "cells": [
  {
   "cell_type": "markdown",
   "id": "creative-jordan",
   "metadata": {},
   "source": [
    "bài toán nhận diện ký tự optical (optical character recognition problem)."
   ]
  },
  {
   "cell_type": "markdown",
   "id": "reliable-dublin",
   "metadata": {},
   "source": [
    "### Loading and visualizing the digits data"
   ]
  },
  {
   "cell_type": "code",
   "execution_count": 1,
   "id": "after-corps",
   "metadata": {},
   "outputs": [
    {
     "data": {
      "text/plain": [
       "(1797, 8, 8)"
      ]
     },
     "execution_count": 1,
     "metadata": {},
     "output_type": "execute_result"
    }
   ],
   "source": [
    "# use data access interface\n",
    "from sklearn.datasets import load_digits\n",
    "digits = load_digits()\n",
    "digits.images.shape"
   ]
  },
  {
   "cell_type": "code",
   "execution_count": null,
   "id": "nonprofit-theta",
   "metadata": {},
   "outputs": [],
   "source": []
  }
 ],
 "metadata": {
  "kernelspec": {
   "display_name": "Python 3",
   "language": "python",
   "name": "python3"
  },
  "language_info": {
   "codemirror_mode": {
    "name": "ipython",
    "version": 3
   },
   "file_extension": ".py",
   "mimetype": "text/x-python",
   "name": "python",
   "nbconvert_exporter": "python",
   "pygments_lexer": "ipython3",
   "version": "3.8.3"
  }
 },
 "nbformat": 4,
 "nbformat_minor": 5
}
