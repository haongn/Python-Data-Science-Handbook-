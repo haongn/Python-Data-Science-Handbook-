{
 "cells": [
  {
   "cell_type": "markdown",
   "id": "c4f64b93",
   "metadata": {},
   "source": [
    "**Gaussian Naive Bayes (GNB)** is a variant of Naive Bayes that follows Gaussian normal distribution and supports continous data. (GNB là một biến thể của NB và được dùng cho DL liên tục)."
   ]
  },
  {
   "cell_type": "markdown",
   "id": "199ff4f8",
   "metadata": {},
   "source": [
    "**Naive Bayes** are a group of supervised machine learning classification algorithms based on the Bayes theorem.\\\n",
    "It is a simple classification technique, but has high functionality.\\\n",
    "They find use when the dimensionality of the inputs is high.\\\n",
    "Complex classification problems can also be implemented by using **Naive Bayes Classifier**."
   ]
  },
  {
   "cell_type": "markdown",
   "id": "7fb00b40",
   "metadata": {},
   "source": [
    "#### Bayes Theorem:"
   ]
  },
  {
   "cell_type": "markdown",
   "id": "d663ae4b",
   "metadata": {},
   "source": [
    "\\begin{equation}\n",
    "P(A|B) = \\frac{P(A \\cap B)}{P(B)} = \\frac{P(A)\\cdot P(B|A)}{P(B)}\n",
    "\\end{equation}"
   ]
  },
  {
   "cell_type": "markdown",
   "id": "d84c26ae",
   "metadata": {},
   "source": [
    "#### Naive Bayes Classifier"
   ]
  },
  {
   "cell_type": "markdown",
   "id": "b8671777",
   "metadata": {},
   "source": [
    "Naive Bayes Classifiers are based on the Bayes Theorem.\\\n",
    "One assumption taken is the strong independence assumptions between the features. These classifiers assume that the value of a particular feature is independent of the value of any other feature.\\\n",
    "In a supervised learning situation, Naive Bayes Classifiers are trained very efficiently. Naive Bayed classifiers need a small training data to estimate the parameters needed for classification.\\\n",
    "Naive Bayes Classifiers have simple design and implementation and they can applied to many real life situations."
   ]
  },
  {
   "cell_type": "markdown",
   "id": "18afd8c0",
   "metadata": {},
   "source": [
    "#### Gaussian Naive Bayes (GNB)"
   ]
  },
  {
   "cell_type": "markdown",
   "id": "2462127e",
   "metadata": {},
   "source": [
    "Mô hình này được sử dụng chủ yếu trong loại dữ liệu mà các thành phần (features) của (điểm) DL là các biến liên tục."
   ]
  },
  {
   "cell_type": "markdown",
   "id": "a60eabb5",
   "metadata": {},
   "source": [
    "Với mỗi chiều dữ liệu (feature) thứ $i$ và một class $c$, $x_i$ tuân theo một phân phối chuẩn có kỳ vọng $\\mu_{ci}$ và phương sai $\\sigma_{ci}^2$: "
   ]
  },
  {
   "cell_type": "markdown",
   "id": "4ac1edbc",
   "metadata": {},
   "source": [
    "\\begin{equation}\n",
    "P(x_i|c) = p(x_i|\\mu_{ci}, \\sigma_{ci}^2) = \\frac{1}{\\sqrt{2\\pi \\sigma_{ci}^2}}\\text{exp}\\left(-\\frac{(x_i - \\mu_{ci})^2}{2\\sigma_{ci}^2} \\right)\n",
    "\\end{equation}"
   ]
  },
  {
   "cell_type": "markdown",
   "id": "5d020742",
   "metadata": {},
   "source": [
    "trong đó, bộ tham số $\\theta = \\{\\mu_{ci}, \\sigma_{ci}^2 \\}$ được xác định bằng MLE: "
   ]
  },
  {
   "cell_type": "markdown",
   "id": "484e7c80",
   "metadata": {},
   "source": [
    "\\begin{equation}\n",
    "(\\mu_{ci}, \\sigma_{ci}^2) = \\text{arg}\\max_{\\mu_{ci}, \\sigma_{ci}^2} \\prod_{n=1}^{N} p(x_{i}^{(n)}|\\mu_{ci}, \\sigma_{ci}^{2})\n",
    "\\end{equation}"
   ]
  },
  {
   "cell_type": "markdown",
   "id": "9769b9e7",
   "metadata": {},
   "source": [
    "Đây là cách tính của thư viện sklearn."
   ]
  },
  {
   "cell_type": "markdown",
   "id": "3a4addd0",
   "metadata": {},
   "source": [
    "#### z-score (class A):"
   ]
  },
  {
   "cell_type": "markdown",
   "id": "26dd4c4e",
   "metadata": {},
   "source": [
    "\\begin{equation} \n",
    "\\text{z-score} = \\frac{x - \\mu_A}{\\sigma_A}\n",
    "\\end{equation} "
   ]
  },
  {
   "cell_type": "markdown",
   "id": "039f48bf",
   "metadata": {},
   "source": [
    "### Ví dụ:"
   ]
  },
  {
   "cell_type": "code",
   "execution_count": 1,
   "id": "c04a8784",
   "metadata": {},
   "outputs": [],
   "source": [
    "import numpy as np \n",
    "import pandas as pd \n",
    "import matplotlib.pyplot as plt \n",
    "import seaborn as sns; sns.set()\n",
    "%matplotlib inline "
   ]
  },
  {
   "cell_type": "markdown",
   "id": "107b914e",
   "metadata": {},
   "source": [
    "#### Import the data"
   ]
  },
  {
   "cell_type": "code",
   "execution_count": 3,
   "id": "6e9a2233",
   "metadata": {},
   "outputs": [],
   "source": [
    "data = pd.read_csv('suv_data.csv')"
   ]
  },
  {
   "cell_type": "code",
   "execution_count": 4,
   "id": "17c97829",
   "metadata": {},
   "outputs": [
    {
     "data": {
      "text/html": [
       "<div>\n",
       "<style scoped>\n",
       "    .dataframe tbody tr th:only-of-type {\n",
       "        vertical-align: middle;\n",
       "    }\n",
       "\n",
       "    .dataframe tbody tr th {\n",
       "        vertical-align: top;\n",
       "    }\n",
       "\n",
       "    .dataframe thead th {\n",
       "        text-align: right;\n",
       "    }\n",
       "</style>\n",
       "<table border=\"1\" class=\"dataframe\">\n",
       "  <thead>\n",
       "    <tr style=\"text-align: right;\">\n",
       "      <th></th>\n",
       "      <th>User ID</th>\n",
       "      <th>Gender</th>\n",
       "      <th>Age</th>\n",
       "      <th>EstimatedSalary</th>\n",
       "      <th>Purchased</th>\n",
       "    </tr>\n",
       "  </thead>\n",
       "  <tbody>\n",
       "    <tr>\n",
       "      <th>0</th>\n",
       "      <td>15624510</td>\n",
       "      <td>Male</td>\n",
       "      <td>19</td>\n",
       "      <td>19000</td>\n",
       "      <td>0</td>\n",
       "    </tr>\n",
       "    <tr>\n",
       "      <th>1</th>\n",
       "      <td>15810944</td>\n",
       "      <td>Male</td>\n",
       "      <td>35</td>\n",
       "      <td>20000</td>\n",
       "      <td>0</td>\n",
       "    </tr>\n",
       "    <tr>\n",
       "      <th>2</th>\n",
       "      <td>15668575</td>\n",
       "      <td>Female</td>\n",
       "      <td>26</td>\n",
       "      <td>43000</td>\n",
       "      <td>0</td>\n",
       "    </tr>\n",
       "    <tr>\n",
       "      <th>3</th>\n",
       "      <td>15603246</td>\n",
       "      <td>Female</td>\n",
       "      <td>27</td>\n",
       "      <td>57000</td>\n",
       "      <td>0</td>\n",
       "    </tr>\n",
       "    <tr>\n",
       "      <th>4</th>\n",
       "      <td>15804002</td>\n",
       "      <td>Male</td>\n",
       "      <td>19</td>\n",
       "      <td>76000</td>\n",
       "      <td>0</td>\n",
       "    </tr>\n",
       "  </tbody>\n",
       "</table>\n",
       "</div>"
      ],
      "text/plain": [
       "    User ID  Gender  Age  EstimatedSalary  Purchased\n",
       "0  15624510    Male   19            19000          0\n",
       "1  15810944    Male   35            20000          0\n",
       "2  15668575  Female   26            43000          0\n",
       "3  15603246  Female   27            57000          0\n",
       "4  15804002    Male   19            76000          0"
      ]
     },
     "execution_count": 4,
     "metadata": {},
     "output_type": "execute_result"
    }
   ],
   "source": [
    "data.head()"
   ]
  },
  {
   "cell_type": "code",
   "execution_count": 5,
   "id": "1fa6e95a",
   "metadata": {},
   "outputs": [
    {
     "name": "stdout",
     "output_type": "stream",
     "text": [
      "<class 'pandas.core.frame.DataFrame'>\n",
      "RangeIndex: 400 entries, 0 to 399\n",
      "Data columns (total 5 columns):\n",
      " #   Column           Non-Null Count  Dtype \n",
      "---  ------           --------------  ----- \n",
      " 0   User ID          400 non-null    int64 \n",
      " 1   Gender           400 non-null    object\n",
      " 2   Age              400 non-null    int64 \n",
      " 3   EstimatedSalary  400 non-null    int64 \n",
      " 4   Purchased        400 non-null    int64 \n",
      "dtypes: int64(4), object(1)\n",
      "memory usage: 15.8+ KB\n"
     ]
    }
   ],
   "source": [
    "data.info()"
   ]
  },
  {
   "cell_type": "code",
   "execution_count": 27,
   "id": "ce454082",
   "metadata": {},
   "outputs": [
    {
     "name": "stderr",
     "output_type": "stream",
     "text": [
      "D:\\anaconda3\\lib\\site-packages\\seaborn\\_decorators.py:36: FutureWarning: Pass the following variables as keyword args: x, y. From version 0.12, the only valid positional argument will be `data`, and passing other arguments without an explicit keyword will result in an error or misinterpretation.\n",
      "  warnings.warn(\n"
     ]
    },
    {
     "data": {
      "text/plain": [
       "[]"
      ]
     },
     "execution_count": 27,
     "metadata": {},
     "output_type": "execute_result"
    },
    {
     "data": {
      "image/png": "[encoded data removed]",
      "text/plain": [
       "<Figure size 720x432 with 1 Axes>"
      ]
     },
     "metadata": {
      "needs_background": "light"
     },
     "output_type": "display_data"
    }
   ],
   "source": [
    "# scatter plot of age versus estimated salary featured by Purchased \n",
    "plt.figure(figsize = (10, 6))\n",
    "sns.scatterplot('Age', 'EstimatedSalary', hue = 'Purchased', data = data)\n",
    "plt.plot()"
   ]
  },
  {
   "cell_type": "markdown",
   "id": "478df73b",
   "metadata": {},
   "source": [
    "### 3. Arange data into feature matrix and target vector "
   ]
  },
  {
   "cell_type": "markdown",
   "id": "a25f1fd9",
   "metadata": {},
   "source": [
    "Để thực hiện GNB, ta sẽ chỉ quan tâm hai chiều DL của vector $\\mathbf{x}$ là Age và EstimatedSalary (có thể có Gender???), tức $x_{Age}$ và $x_{EstimatedSalary}$."
   ]
  },
  {
   "cell_type": "markdown",
   "id": "619333e0",
   "metadata": {},
   "source": [
    "Chú ý: Rõ ràng có thể nhận thấy là Age và EstimatedSalary là có tương quan với nhau, vì vậy đã vi phạm giả thiết của GNB về sự độc lập của các feature của vector dữ liệu. Tuy nhiên, ta vẫn sẽ chọn pp này vì GNB khá hiệu quả dù có sự mâu thuẫn ntn."
   ]
  },
  {
   "cell_type": "code",
   "execution_count": 8,
   "id": "e6e179ec",
   "metadata": {},
   "outputs": [],
   "source": [
    "X = data.iloc[:, [2, 3]].values   # lấy cột 2 và 3 (Age và Estimated Salary)\n",
    "y = data.iloc[:, 4].values        # lấy cột 4 (Purchased)\n",
    "                                  # thêm vào method \"values\" để chuyển DataFrame object thành ma trận "
   ]
  },
  {
   "cell_type": "code",
   "execution_count": 9,
   "id": "4de71633",
   "metadata": {},
   "outputs": [
    {
     "data": {
      "text/plain": [
       "array([[   19, 19000],\n",
       "       [   35, 20000],\n",
       "       [   26, 43000]], dtype=int64)"
      ]
     },
     "execution_count": 9,
     "metadata": {},
     "output_type": "execute_result"
    }
   ],
   "source": [
    "data.iloc[:3, [2, 3]].values"
   ]
  },
  {
   "cell_type": "code",
   "execution_count": 10,
   "id": "66ef5192",
   "metadata": {},
   "outputs": [
    {
     "data": {
      "text/html": [
       "<div>\n",
       "<style scoped>\n",
       "    .dataframe tbody tr th:only-of-type {\n",
       "        vertical-align: middle;\n",
       "    }\n",
       "\n",
       "    .dataframe tbody tr th {\n",
       "        vertical-align: top;\n",
       "    }\n",
       "\n",
       "    .dataframe thead th {\n",
       "        text-align: right;\n",
       "    }\n",
       "</style>\n",
       "<table border=\"1\" class=\"dataframe\">\n",
       "  <thead>\n",
       "    <tr style=\"text-align: right;\">\n",
       "      <th></th>\n",
       "      <th>Age</th>\n",
       "      <th>EstimatedSalary</th>\n",
       "    </tr>\n",
       "  </thead>\n",
       "  <tbody>\n",
       "    <tr>\n",
       "      <th>0</th>\n",
       "      <td>19</td>\n",
       "      <td>19000</td>\n",
       "    </tr>\n",
       "    <tr>\n",
       "      <th>1</th>\n",
       "      <td>35</td>\n",
       "      <td>20000</td>\n",
       "    </tr>\n",
       "    <tr>\n",
       "      <th>2</th>\n",
       "      <td>26</td>\n",
       "      <td>43000</td>\n",
       "    </tr>\n",
       "  </tbody>\n",
       "</table>\n",
       "</div>"
      ],
      "text/plain": [
       "   Age  EstimatedSalary\n",
       "0   19            19000\n",
       "1   35            20000\n",
       "2   26            43000"
      ]
     },
     "execution_count": 10,
     "metadata": {},
     "output_type": "execute_result"
    }
   ],
   "source": [
    "data.iloc[:3, [2, 3]]"
   ]
  },
  {
   "cell_type": "markdown",
   "id": "0dcec8d4",
   "metadata": {},
   "source": [
    "### 1. Choose a class of model "
   ]
  },
  {
   "cell_type": "code",
   "execution_count": 11,
   "id": "9228fc5c",
   "metadata": {},
   "outputs": [],
   "source": [
    "from sklearn.model_selection import train_test_split "
   ]
  },
  {
   "cell_type": "markdown",
   "id": "202c19aa",
   "metadata": {},
   "source": [
    "### 2. Choose model hyperparameters"
   ]
  },
  {
   "cell_type": "code",
   "execution_count": 12,
   "id": "b3b0eb66",
   "metadata": {},
   "outputs": [],
   "source": [
    "X_train, X_test, y_train, y_test = train_test_split(X, y, test_size = 0.25, random_state = 5) "
   ]
  },
  {
   "cell_type": "markdown",
   "id": "436d8c1b",
   "metadata": {},
   "source": [
    "#### Feature Scaling "
   ]
  },
  {
   "cell_type": "code",
   "execution_count": 14,
   "id": "c9451d50",
   "metadata": {},
   "outputs": [],
   "source": [
    "from sklearn.preprocessing import StandardScaler \n",
    "\n",
    "sc = StandardScaler() \n",
    "X_train = sc.fit_transform(X_train) \n",
    "X_test = sc.fit_transform(X_test)"
   ]
  },
  {
   "cell_type": "markdown",
   "id": "fab0bed8",
   "metadata": {},
   "source": [
    "### 4. Fit the model to our data"
   ]
  },
  {
   "cell_type": "code",
   "execution_count": 15,
   "id": "24353d57",
   "metadata": {},
   "outputs": [
    {
     "data": {
      "text/plain": [
       "GaussianNB()"
      ]
     },
     "execution_count": 15,
     "metadata": {},
     "output_type": "execute_result"
    }
   ],
   "source": [
    "from sklearn.naive_bayes import GaussianNB \n",
    "\n",
    "classifier = GaussianNB()\n",
    "classifier.fit(X_train, y_train)"
   ]
  },
  {
   "cell_type": "markdown",
   "id": "08c8326f",
   "metadata": {},
   "source": [
    "### 5. Predict the labels for unknown data"
   ]
  },
  {
   "cell_type": "code",
   "execution_count": 16,
   "id": "4320b577",
   "metadata": {},
   "outputs": [],
   "source": [
    "y_pred = classifier.predict(X_test) "
   ]
  },
  {
   "cell_type": "markdown",
   "id": "0c8cd6e3",
   "metadata": {},
   "source": [
    "#### Accuracy score "
   ]
  },
  {
   "cell_type": "code",
   "execution_count": 17,
   "id": "7a04d458",
   "metadata": {},
   "outputs": [
    {
     "data": {
      "text/plain": [
       "0.9"
      ]
     },
     "execution_count": 17,
     "metadata": {},
     "output_type": "execute_result"
    }
   ],
   "source": [
    "from sklearn.metrics import accuracy_score \n",
    "\n",
    "accuracy_score(y_test, y_pred)   "
   ]
  },
  {
   "cell_type": "markdown",
   "id": "71dd67b3",
   "metadata": {},
   "source": [
    "#### Confusion matrix (Ma trận gây nhiễu)"
   ]
  },
  {
   "cell_type": "markdown",
   "id": "f725b7b4",
   "metadata": {},
   "source": [
    "A confusion matrix is a **performance measurement method (phương pháp đo lường hiệu quả)** for Machine learning classification.\\\n",
    "It helps you to know the performance of the classification model *on a set of test data* for that the true values and false are known.\\\n",
    "It helps us find out, how many times our model has given correct or wrong output and of what type. Hence, it is a very important tool for evaluating classification models."
   ]
  },
  {
   "cell_type": "markdown",
   "id": "34646ceb",
   "metadata": {},
   "source": [
    "There are net 4 types of outcomes possible:\n",
    "- TP (True Positive): dự báo là có, bản chất là có\n",
    "- FP (False Positive): dự bảo là có, bản chất là sai \n",
    "- FN (False Negative): dự báo là không, bản chất là có \n",
    "- TN (True Negative): dự báo là không, bản chất là không"
   ]
  },
  {
   "cell_type": "markdown",
   "id": "87b5fb4e",
   "metadata": {},
   "source": [
    "Accuracy test from the confusion matrix: "
   ]
  },
  {
   "cell_type": "markdown",
   "id": "d8fa4429",
   "metadata": {},
   "source": [
    "\\begin{equation}\n",
    "accuracy = \\frac{TP + TN}{TP + TN + FP + FN}\n",
    "\\end{equation}"
   ]
  },
  {
   "cell_type": "code",
   "execution_count": 19,
   "id": "10c82ebf",
   "metadata": {},
   "outputs": [
    {
     "name": "stdout",
     "output_type": "stream",
     "text": [
      "[[62  4]\n",
      " [ 6 28]]\n"
     ]
    }
   ],
   "source": [
    "# confusion matrix \n",
    "\n",
    "from sklearn.metrics import confusion_matrix \n",
    "cm = confusion_matrix(y_test, y_pred)\n",
    "\n",
    "print(cm)"
   ]
  },
  {
   "cell_type": "markdown",
   "id": "52616b6b",
   "metadata": {},
   "source": [
    "=> accuracy = 90 /100 = 0.9"
   ]
  },
  {
   "cell_type": "code",
   "execution_count": null,
   "id": "f01d47a6",
   "metadata": {},
   "outputs": [],
   "source": []
  }
 ],
 "metadata": {
  "kernelspec": {
   "display_name": "Python 3 (ipykernel)",
   "language": "python",
   "name": "python3"
  },
  "language_info": {
   "codemirror_mode": {
    "name": "ipython",
    "version": 3
   },
   "file_extension": ".py",
   "mimetype": "text/x-python",
   "name": "python",
   "nbconvert_exporter": "python",
   "pygments_lexer": "ipython3",
   "version": "3.8.3"
  }
 },
 "nbformat": 4,
 "nbformat_minor": 5
}
