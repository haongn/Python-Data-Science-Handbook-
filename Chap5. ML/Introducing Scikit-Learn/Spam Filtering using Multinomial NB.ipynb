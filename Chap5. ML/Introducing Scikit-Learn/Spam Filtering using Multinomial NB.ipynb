{
 "cells": [
  {
   "cell_type": "code",
   "execution_count": 10,
   "id": "9fc1ad34",
   "metadata": {},
   "outputs": [],
   "source": [
    "from __future__ import print_function, division, unicode_literals \n",
    "import numpy as np \n",
    "from scipy.sparse import coo_matrix            # for sparse matrix \n",
    "from sklearn.naive_bayes import MultinomialNB, BernoulliNB \n",
    "from sklearn.metrics import accuracy_score     # for evaluating results "
   ]
  },
  {
   "cell_type": "code",
   "execution_count": 18,
   "id": "80023b52",
   "metadata": {},
   "outputs": [],
   "source": [
    "# data path and file name \n",
    "path = 'ex6DataPrepared_unzip/'\n",
    "train_data_fn = 'train-features.txt'\n",
    "test_data_fn = 'test-features.txt'\n",
    "train_label_fn = 'train-labels.txt'\n",
    "test_label_fn = 'test-labels.txt'"
   ]
  },
  {
   "cell_type": "markdown",
   "id": "b91fe2d5",
   "metadata": {},
   "source": [
    "Số lượng từ trong từ điểm là 2500."
   ]
  },
  {
   "cell_type": "markdown",
   "id": "bf786b59",
   "metadata": {},
   "source": [
    "Dữ liệu sẽ được lưu trong một ma trận mà mỗi hàng thể hiện một email.\\\n",
    "Ma trận này là một ma trận sparse nên chúng ta sẽ sử dụng hàm **scipy.sparse.coo_matrix**."
   ]
  },
  {
   "cell_type": "markdown",
   "id": "d31ce5aa",
   "metadata": {},
   "source": [
    "Mỗi file *labels*.txt chứa nhiều dòng, mỗi dòng là một ký tự 0 hoặc 1 thể hiện email là non-spam hoặc spam."
   ]
  },
  {
   "cell_type": "markdown",
   "id": "4baf49c0",
   "metadata": {},
   "source": [
    "Mỗi file *features*.txt chứa nhiều dòng, mỗi dòng có 3 số, Mỗi file *features*.txt chứa nhiều dòng, mỗi dòng có 3 số, trong đó số đầu tiên là chỉ số của email, bắt đầu từ 1; số thứ hai là thứ tự của từ trong từ điển (tổng cộng 2500 từ); số thứ ba là số lượng của từ đó trong email đang xét"
   ]
  },
  {
   "cell_type": "code",
   "execution_count": 19,
   "id": "324d1f48",
   "metadata": {},
   "outputs": [],
   "source": [
    "nwords = 2500 \n",
    "\n",
    "def read_data(data_fn, label_fn):\n",
    "    \"\"\"Hàm số đọc dữ liệu từ file data_fn với labels tương ứng là label_fn.\n",
    "    \"\"\"\n",
    "    \n",
    "    # read label_fn \n",
    "    with open(path + label_fn) as f: \n",
    "        content = f.readlines()   # return all lines in the file as a list, each line is an item in the list\n",
    "    label = [int(x.strip()) for x in content]   # strip(): # remove '\\n' (and spaces) at the end of each line  \n",
    "                                                # loop through each line in content \n",
    "    # read data_fn \n",
    "    with open(path + data_fn) as f: \n",
    "        content = f.readlines() \n",
    "    content = [x.strip() for x in content]      # remove '\\n' at the end of each line \n",
    "    \n",
    "    dat = np.zeros((len(content), 3), dtype = int)\n",
    "    \n",
    "    for i, line in enumerate(content): \n",
    "        a = line.split(' ')\n",
    "        dat[i, :] = np.array([int(a[0]), int(a[1]), int(a[2])])\n",
    "        \n",
    "    # remember to -1 at coordinate since we're in Python\n",
    "    # check this: https://docs.scipy.org/doc/scipy/reference/generated/scipy.sparse.coo_matrix.html\n",
    "    # for more information about coo_matrix function \n",
    "    data = coo_matrix((dat[:, 2], (dat[:, 0] - 1, dat[:, 1] - 1)), shape = (len(label), nwords))\n",
    "    \n",
    "    return (data, label)"
   ]
  },
  {
   "cell_type": "code",
   "execution_count": 13,
   "id": "386adc44",
   "metadata": {},
   "outputs": [
    {
     "data": {
      "text/plain": [
       "'hello'"
      ]
     },
     "execution_count": 13,
     "metadata": {},
     "output_type": "execute_result"
    }
   ],
   "source": [
    "s = 'hello \\n'\n",
    "s.strip()"
   ]
  },
  {
   "cell_type": "code",
   "execution_count": 14,
   "id": "9f8e24b2",
   "metadata": {},
   "outputs": [
    {
     "data": {
      "text/plain": [
       "'hello'"
      ]
     },
     "execution_count": 14,
     "metadata": {},
     "output_type": "execute_result"
    }
   ],
   "source": [
    "s = 'hello   \\n     '\n",
    "s.strip()"
   ]
  },
  {
   "cell_type": "code",
   "execution_count": 15,
   "id": "9bff06d9",
   "metadata": {},
   "outputs": [
    {
     "data": {
      "text/plain": [
       "'hello'"
      ]
     },
     "execution_count": 15,
     "metadata": {},
     "output_type": "execute_result"
    }
   ],
   "source": [
    "s = '   hello   \\n     '\n",
    "s.strip()"
   ]
  },
  {
   "cell_type": "code",
   "execution_count": 16,
   "id": "fcb34e71",
   "metadata": {},
   "outputs": [
    {
     "data": {
      "text/plain": [
       "'hello    world'"
      ]
     },
     "execution_count": 16,
     "metadata": {},
     "output_type": "execute_result"
    }
   ],
   "source": [
    "s = ' hello    world   \\n   \\n'\n",
    "s.strip()"
   ]
  },
  {
   "cell_type": "markdown",
   "id": "157abf19",
   "metadata": {},
   "source": [
    "The strip() method removes any leading (spaces at the beginning) and trailing (spaces at the end) characters (space is the default leading character to remove)"
   ]
  },
  {
   "cell_type": "markdown",
   "id": "baec2945",
   "metadata": {},
   "source": [
    "Đọc training data và test data, sử dụng class MultinomialNB trong sklearn để xây dựng mô hình và dự đoán đầu ra cho test data."
   ]
  },
  {
   "cell_type": "code",
   "execution_count": 20,
   "id": "0752cf9e",
   "metadata": {},
   "outputs": [
    {
     "name": "stdout",
     "output_type": "stream",
     "text": [
      "Training size = 700, accuracy = 98.08%\n"
     ]
    }
   ],
   "source": [
    "(train_data, train_label) = read_data(train_data_fn, train_label_fn)\n",
    "(test_data, test_label) = read_data(test_data_fn, test_label_fn)\n",
    "\n",
    "clf = MultinomialNB()\n",
    "clf.fit(train_data, train_label)\n",
    "\n",
    "y_pred = clf.predict(test_data)\n",
    "\n",
    "print('Training size = %d, accuracy = %.2f%%' % (train_data.shape[0], accuracy_score(test_label, y_pred) * 100))"
   ]
  },
  {
   "cell_type": "markdown",
   "id": "bb85c372",
   "metadata": {},
   "source": [
    "Vậy là có tới 98.08% các email được phân loại đúng. Chúng ta tiếp tục thử với các bộ dữ liệu training nhỏ hơn:"
   ]
  },
  {
   "cell_type": "code",
   "execution_count": 21,
   "id": "577c8fb6",
   "metadata": {},
   "outputs": [],
   "source": [
    "train_data_fn = 'train-features-100.txt'\n",
    "train_label_fn = 'train-labels-100.txt'\n",
    "test_data_fn = 'test-features.txt'\n",
    "test_label_fn = 'test-labels.txt'"
   ]
  },
  {
   "cell_type": "code",
   "execution_count": 23,
   "id": "edd7d621",
   "metadata": {},
   "outputs": [
    {
     "name": "stdout",
     "output_type": "stream",
     "text": [
      "Training size = 100, accuracy = 97.69%\n"
     ]
    }
   ],
   "source": [
    "(train_data, train_label)  = read_data(train_data_fn, train_label_fn)\n",
    "(test_data, test_label)  = read_data(test_data_fn, test_label_fn)\n",
    "\n",
    "clf = MultinomialNB()\n",
    "\n",
    "clf.fit(train_data, train_label)\n",
    "\n",
    "y_pred = clf.predict(test_data)\n",
    "\n",
    "print('Training size = %d, accuracy = %.2f%%' % (train_data.shape[0], accuracy_score(test_label, y_pred) * 100))"
   ]
  },
  {
   "cell_type": "code",
   "execution_count": 24,
   "id": "0cde641a",
   "metadata": {},
   "outputs": [
    {
     "name": "stdout",
     "output_type": "stream",
     "text": [
      "Training size = 50, accuracy = 97.31%\n"
     ]
    }
   ],
   "source": [
    "train_data_fn = 'train-features-50.txt'\n",
    "train_label_fn = 'train-labels-50.txt'\n",
    "test_data_fn = 'test-features.txt'\n",
    "test_label_fn = 'test-labels.txt'\n",
    "\n",
    "(train_data, train_label)  = read_data(train_data_fn, train_label_fn)\n",
    "(test_data, test_label)  = read_data(test_data_fn, test_label_fn)\n",
    "\n",
    "clf = MultinomialNB()\n",
    "\n",
    "clf.fit(train_data, train_label)\n",
    "\n",
    "y_pred = clf.predict(test_data)\n",
    "\n",
    "print('Training size = %d, accuracy = %.2f%%' % (train_data.shape[0],accuracy_score(test_label, y_pred) * 100))"
   ]
  },
  {
   "cell_type": "markdown",
   "id": "19736c57",
   "metadata": {},
   "source": [
    "Ta thấy rằng thậm chí khi tập training là rất nhỏ, 50 emails tổng cộng, kết quả đạt được đã rất ấn tượng."
   ]
  },
  {
   "cell_type": "code",
   "execution_count": null,
   "id": "61ce6ba2",
   "metadata": {},
   "outputs": [],
   "source": []
  }
 ],
 "metadata": {
  "kernelspec": {
   "display_name": "Python 3 (ipykernel)",
   "language": "python",
   "name": "python3"
  },
  "language_info": {
   "codemirror_mode": {
    "name": "ipython",
    "version": 3
   },
   "file_extension": ".py",
   "mimetype": "text/x-python",
   "name": "python",
   "nbconvert_exporter": "python",
   "pygments_lexer": "ipython3",
   "version": "3.8.3"
  }
 },
 "nbformat": 4,
 "nbformat_minor": 5
}
