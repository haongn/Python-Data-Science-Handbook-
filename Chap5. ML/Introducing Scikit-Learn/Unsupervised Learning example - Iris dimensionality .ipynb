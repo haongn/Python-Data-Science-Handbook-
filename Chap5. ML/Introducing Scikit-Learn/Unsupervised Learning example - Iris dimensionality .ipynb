{
 "cells": [
  {
   "cell_type": "markdown",
   "id": "aa55d2e8",
   "metadata": {},
   "source": [
    "Mục tiêu: giảm số chiều của tập dữ liệu Iris để có visualize dễ dàng hơn."
   ]
  },
  {
   "cell_type": "code",
   "execution_count": 3,
   "id": "constitutional-tenant",
   "metadata": {},
   "outputs": [],
   "source": [
    "import numpy as np \n",
    "import matplotlib.pyplot as plt \n",
    "import seaborn as sns; sns.set()\n",
    "%matplotlib inline"
   ]
  },
  {
   "cell_type": "code",
   "execution_count": 4,
   "id": "rough-native",
   "metadata": {},
   "outputs": [
    {
     "data": {
      "text/html": [
       "<div>\n",
       "<style scoped>\n",
       "    .dataframe tbody tr th:only-of-type {\n",
       "        vertical-align: middle;\n",
       "    }\n",
       "\n",
       "    .dataframe tbody tr th {\n",
       "        vertical-align: top;\n",
       "    }\n",
       "\n",
       "    .dataframe thead th {\n",
       "        text-align: right;\n",
       "    }\n",
       "</style>\n",
       "<table border=\"1\" class=\"dataframe\">\n",
       "  <thead>\n",
       "    <tr style=\"text-align: right;\">\n",
       "      <th></th>\n",
       "      <th>sepal_length</th>\n",
       "      <th>sepal_width</th>\n",
       "      <th>petal_length</th>\n",
       "      <th>petal_width</th>\n",
       "      <th>species</th>\n",
       "    </tr>\n",
       "  </thead>\n",
       "  <tbody>\n",
       "    <tr>\n",
       "      <th>0</th>\n",
       "      <td>5.1</td>\n",
       "      <td>3.5</td>\n",
       "      <td>1.4</td>\n",
       "      <td>0.2</td>\n",
       "      <td>setosa</td>\n",
       "    </tr>\n",
       "    <tr>\n",
       "      <th>1</th>\n",
       "      <td>4.9</td>\n",
       "      <td>3.0</td>\n",
       "      <td>1.4</td>\n",
       "      <td>0.2</td>\n",
       "      <td>setosa</td>\n",
       "    </tr>\n",
       "    <tr>\n",
       "      <th>2</th>\n",
       "      <td>4.7</td>\n",
       "      <td>3.2</td>\n",
       "      <td>1.3</td>\n",
       "      <td>0.2</td>\n",
       "      <td>setosa</td>\n",
       "    </tr>\n",
       "    <tr>\n",
       "      <th>3</th>\n",
       "      <td>4.6</td>\n",
       "      <td>3.1</td>\n",
       "      <td>1.5</td>\n",
       "      <td>0.2</td>\n",
       "      <td>setosa</td>\n",
       "    </tr>\n",
       "    <tr>\n",
       "      <th>4</th>\n",
       "      <td>5.0</td>\n",
       "      <td>3.6</td>\n",
       "      <td>1.4</td>\n",
       "      <td>0.2</td>\n",
       "      <td>setosa</td>\n",
       "    </tr>\n",
       "  </tbody>\n",
       "</table>\n",
       "</div>"
      ],
      "text/plain": [
       "   sepal_length  sepal_width  petal_length  petal_width species\n",
       "0           5.1          3.5           1.4          0.2  setosa\n",
       "1           4.9          3.0           1.4          0.2  setosa\n",
       "2           4.7          3.2           1.3          0.2  setosa\n",
       "3           4.6          3.1           1.5          0.2  setosa\n",
       "4           5.0          3.6           1.4          0.2  setosa"
      ]
     },
     "execution_count": 4,
     "metadata": {},
     "output_type": "execute_result"
    }
   ],
   "source": [
    "iris = sns.load_dataset('iris')\n",
    "iris.head()"
   ]
  },
  {
   "cell_type": "code",
   "execution_count": 5,
   "id": "accepting-finish",
   "metadata": {},
   "outputs": [
    {
     "data": {
      "text/plain": [
       "(150, 5)"
      ]
     },
     "execution_count": 5,
     "metadata": {},
     "output_type": "execute_result"
    }
   ],
   "source": [
    "iris.shape"
   ]
  },
  {
   "cell_type": "code",
   "execution_count": 6,
   "id": "three-customs",
   "metadata": {},
   "outputs": [],
   "source": [
    "# Iris data is four-dimensional. (tứ với 4 features)"
   ]
  },
  {
   "cell_type": "markdown",
   "id": "68dab8e0",
   "metadata": {},
   "source": [
    "Mục tiêu của giảm chiều dữ liệu là liệu có một cách biểu diễn phù hợp mà thấp chiều hơn mà giữ lại được những tính trạng quan trọng của dữ liệu."
   ]
  },
  {
   "cell_type": "markdown",
   "id": "hungry-cisco",
   "metadata": {},
   "source": [
    "Thông thường, giảm chiều dữ liệu được sử dụng để hồ trợ cho việc hình dung dữ liệu."
   ]
  },
  {
   "cell_type": "markdown",
   "id": "extra-affairs",
   "metadata": {},
   "source": [
    "Ta sẽ dử dụng PCA để giảm chiều dữ liệu. Đây là một thuật toán giảm chiều dữ liệu với tốc độ nhanh. "
   ]
  },
  {
   "cell_type": "code",
   "execution_count": 9,
   "id": "utility-clerk",
   "metadata": {},
   "outputs": [],
   "source": [
    "# we will ask the model to return two components - two-dimensional representation of the data."
   ]
  },
  {
   "cell_type": "code",
   "execution_count": 10,
   "id": "progressive-begin",
   "metadata": {},
   "outputs": [
    {
     "name": "stdout",
     "output_type": "stream",
     "text": [
      "(150, 4)\n",
      "(150,)\n"
     ]
    }
   ],
   "source": [
    "# extract features matrix and target array from dataframe\n",
    "X_iris = iris.drop('species', axis = 1)  # loại bỏ theo cột\n",
    "y_iris = iris['species']\n",
    "print(X_iris.shape)\n",
    "print(y_iris.shape)"
   ]
  },
  {
   "cell_type": "markdown",
   "id": "be76b12c",
   "metadata": {},
   "source": [
    "Với PCA thì ta không cần chia tập training set và test set."
   ]
  },
  {
   "cell_type": "code",
   "execution_count": 13,
   "id": "entitled-rubber",
   "metadata": {},
   "outputs": [],
   "source": [
    "from sklearn.decomposition import PCA      # 1. choose the model class \n",
    "model = PCA(n_components = 2)              # 2. Instantiate the model with hyperparameters\n",
    "model.fit(X_iris)                          # 3. fit to data. notice y is not specified!\n",
    "X_2D = model.transform(X_iris)             # 4. Transform the data to two dimensions"
   ]
  },
  {
   "cell_type": "code",
   "execution_count": 14,
   "id": "chronic-brunei",
   "metadata": {},
   "outputs": [
    {
     "name": "stderr",
     "output_type": "stream",
     "text": [
      "D:\\anaconda3\\lib\\site-packages\\seaborn\\_decorators.py:36: FutureWarning: Pass the following variables as keyword args: x, y. From version 0.12, the only valid positional argument will be `data`, and passing other arguments without an explicit keyword will result in an error or misinterpretation.\n",
      "  warnings.warn(\n"
     ]
    },
    {
     "data": {
      "text/plain": [
       "<seaborn.axisgrid.FacetGrid at 0x2992481e4c0>"
      ]
     },
     "execution_count": 14,
     "metadata": {},
     "output_type": "execute_result"
    },
    {
     "data": {
      "image/png": "[encoded data removed]",
      "text/plain": [
       "<Figure size 446.85x360 with 1 Axes>"
      ]
     },
     "metadata": {
      "needs_background": "light"
     },
     "output_type": "display_data"
    }
   ],
   "source": [
    "# plot the results\n",
    "# insert the results into the original Iris DataFrame, and use Seaborn’s lmplot to show the results\n",
    "iris['PCA1'] = X_2D[:, 0]\n",
    "iris['PCA2'] = X_2D[:, 1]\n",
    "sns.lmplot('PCA1', 'PCA2', hue = 'species', data = iris, fit_reg = False)"
   ]
  },
  {
   "cell_type": "markdown",
   "id": "descending-bennett",
   "metadata": {},
   "source": [
    "We see that in the two-dimensional representation, the species are fairly well separated, **even though the PCA algorithm had no knowledge of the species labels!** This\n",
    "indicates to us that a relatively straightforward classification will probably be effective\n",
    "on the dataset."
   ]
  },
  {
   "cell_type": "code",
   "execution_count": null,
   "id": "becoming-accent",
   "metadata": {},
   "outputs": [],
   "source": []
  }
 ],
 "metadata": {
  "kernelspec": {
   "display_name": "Python 3 (ipykernel)",
   "language": "python",
   "name": "python3"
  },
  "language_info": {
   "codemirror_mode": {
    "name": "ipython",
    "version": 3
   },
   "file_extension": ".py",
   "mimetype": "text/x-python",
   "name": "python",
   "nbconvert_exporter": "python",
   "pygments_lexer": "ipython3",
   "version": "3.8.3"
  }
 },
 "nbformat": 4,
 "nbformat_minor": 5
}
