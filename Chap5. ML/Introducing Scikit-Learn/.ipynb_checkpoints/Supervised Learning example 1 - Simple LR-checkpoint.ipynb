{
 "cells": [
  {
   "cell_type": "code",
   "execution_count": 22,
   "id": "quiet-arbitration",
   "metadata": {},
   "outputs": [],
   "source": [
    "# fit a line to (x, y) data\n",
    "import numpy as np \n",
    "import matplotlib.pyplot as plt \n",
    "import seaborn as sns; sns.set()\n",
    "%matplotlib inline"
   ]
  },
  {
   "cell_type": "code",
   "execution_count": 25,
   "id": "rising-cross",
   "metadata": {},
   "outputs": [
    {
     "data": {
      "text/plain": [
       "<matplotlib.collections.PathCollection at 0x27d31fa21f0>"
      ]
     },
     "execution_count": 25,
     "metadata": {},
     "output_type": "execute_result"
    },
    {
     "data": {
      "image/png": "[encoded data removed]",
      "text/plain": [
       "<Figure size 432x288 with 1 Axes>"
      ]
     },
     "metadata": {
      "needs_background": "light"
     },
     "output_type": "display_data"
    }
   ],
   "source": [
    "rng = np.random.RandomState(42)\n",
    "x = 10 * rng.rand(50)\n",
    "y = 2 * x - 1 + rng.randn(50)     # model: y = 2x - 1\n",
    "plt.scatter(x, y)"
   ]
  },
  {
   "cell_type": "code",
   "execution_count": 6,
   "id": "vertical-gather",
   "metadata": {},
   "outputs": [],
   "source": [
    "# 1. Choose a class of model \n",
    "from sklearn.linear_model import LinearRegression"
   ]
  },
  {
   "cell_type": "code",
   "execution_count": 7,
   "id": "subjective-tomorrow",
   "metadata": {},
   "outputs": [
    {
     "data": {
      "text/plain": [
       "LinearRegression()"
      ]
     },
     "execution_count": 7,
     "metadata": {},
     "output_type": "execute_result"
    }
   ],
   "source": [
    "# 2. Choose model hyperparameters\n",
    "model = LinearRegression(fit_intercept = True)\n",
    "model"
   ]
  },
  {
   "cell_type": "code",
   "execution_count": 8,
   "id": "revolutionary-steps",
   "metadata": {},
   "outputs": [
    {
     "data": {
      "text/plain": [
       "(50, 1)"
      ]
     },
     "execution_count": 8,
     "metadata": {},
     "output_type": "execute_result"
    }
   ],
   "source": [
    "# 3. arange data into a features matrix and target vector\n",
    "X = x[:, np.newaxis]     # reshaping one-dimensional array\n",
    "X.shape"
   ]
  },
  {
   "cell_type": "code",
   "execution_count": 9,
   "id": "incredible-diploma",
   "metadata": {},
   "outputs": [
    {
     "data": {
      "text/plain": [
       "LinearRegression()"
      ]
     },
     "execution_count": 9,
     "metadata": {},
     "output_type": "execute_result"
    }
   ],
   "source": [
    "# 4. fit the model to your data\n",
    "model.fit(X, y)"
   ]
  },
  {
   "cell_type": "code",
   "execution_count": 10,
   "id": "satisfied-likelihood",
   "metadata": {},
   "outputs": [
    {
     "data": {
      "text/plain": [
       "array([1.9776566])"
      ]
     },
     "execution_count": 10,
     "metadata": {},
     "output_type": "execute_result"
    }
   ],
   "source": [
    "model.coef_    # model parameter"
   ]
  },
  {
   "cell_type": "code",
   "execution_count": 11,
   "id": "plastic-wireless",
   "metadata": {},
   "outputs": [
    {
     "data": {
      "text/plain": [
       "-0.9033107255311164"
      ]
     },
     "execution_count": 11,
     "metadata": {},
     "output_type": "execute_result"
    }
   ],
   "source": [
    "model.intercept_   # model parameter"
   ]
  },
  {
   "cell_type": "markdown",
   "id": "banned-precipitation",
   "metadata": {},
   "source": [
    "Scikit-Learn does not provide tools to draw conclusions from internal model parameters themselves: interpreting model parameters is much more a statistical modeling question than a machine learning\n",
    "question."
   ]
  },
  {
   "cell_type": "code",
   "execution_count": 17,
   "id": "terminal-welding",
   "metadata": {},
   "outputs": [],
   "source": [
    "# 5. predict labels for unknown data\n",
    "xfit = np.linspace(-1, 11)   # one-dimensional array"
   ]
  },
  {
   "cell_type": "code",
   "execution_count": 18,
   "id": "driven-kenya",
   "metadata": {},
   "outputs": [],
   "source": [
    "# we will ask what y values the model predicts: \n",
    "Xfit = xfit[:, np.newaxis]   # reshaping to features matrix\n",
    "yfit = model.predict(Xfit)   # predicted y values "
   ]
  },
  {
   "cell_type": "code",
   "execution_count": 23,
   "id": "global-warehouse",
   "metadata": {},
   "outputs": [
    {
     "data": {
      "text/plain": [
       "[<matplotlib.lines.Line2D at 0x27d31ee8dc0>]"
      ]
     },
     "execution_count": 23,
     "metadata": {},
     "output_type": "execute_result"
    },
    {
     "data": {
      "image/png": "[encoded data removed]",
      "text/plain": [
       "<Figure size 432x288 with 1 Axes>"
      ]
     },
     "metadata": {
      "needs_background": "light"
     },
     "output_type": "display_data"
    }
   ],
   "source": [
    "# visualize the results\n",
    "plt.scatter(x, y)     # plotting raw data\n",
    "plt.plot(xfit, yfit)  # plotting model fit (predicted y values)"
   ]
  },
  {
   "cell_type": "markdown",
   "id": "interpreted-title",
   "metadata": {},
   "source": [
    "Typically one evaluates the efficacy (hiệu quả) of the model by comparing its results to some\n",
    "known baseline."
   ]
  },
  {
   "cell_type": "code",
   "execution_count": null,
   "id": "atmospheric-output",
   "metadata": {},
   "outputs": [],
   "source": []
  }
 ],
 "metadata": {
  "kernelspec": {
   "display_name": "Python 3",
   "language": "python",
   "name": "python3"
  },
  "language_info": {
   "codemirror_mode": {
    "name": "ipython",
    "version": 3
   },
   "file_extension": ".py",
   "mimetype": "text/x-python",
   "name": "python",
   "nbconvert_exporter": "python",
   "pygments_lexer": "ipython3",
   "version": "3.8.3"
  }
 },
 "nbformat": 4,
 "nbformat_minor": 5
}
